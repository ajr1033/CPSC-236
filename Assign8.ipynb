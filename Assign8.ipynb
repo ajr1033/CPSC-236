{
 "cells": [
  {
   "cell_type": "markdown",
   "metadata": {},
   "source": [
    "# Strings\n",
    "\n",
    "To submit this assignment in D2l, post the link to your notebook file on your GitHub account."
   ]
  },
  {
   "cell_type": "markdown",
   "metadata": {},
   "source": [
    "## 10.1 Email Creator\n",
    "Create a program that reads a file and creates a series of emails.\n",
    "\n",
    "### Console:\n",
    "```powershell\n",
    "Email Creator\n",
    "\n",
    "================================================================\n",
    "To: jbutler@gmail.com \n",
    "From: noreply@deals.com \n",
    "Subject: Deals!\n",
    "\n",
    "Hi James,\n",
    "\n",
    "We've got some great deals for you. Check our website!\n",
    "================================================================\n",
    "To:\tjosephine_darakjy@darakjy.org \n",
    "From:\tnoreply@deals.com\n",
    "Subject: Deals! \n",
    "\n",
    "Hi Josephine,\n",
    "\n",
    "We've got some great deals for you. Check our website!\n",
    "================================================================\n",
    "To:\tart@venere.org\n",
    "From:\tnoreply@deals.com \n",
    "Subject: Deals!\n",
    "\n",
    "Hi Art,\n",
    "\n",
    "We've got some great deals for you. Check our website!\n",
    "```\n",
    "\n",
    "### Specifications:\n",
    "- Use `email.csv` file:\n",
    "- Use `email_template.txt` file:\n",
    "- When the program starts, it should read the email addresses and first names from the file, merge them into the mass email template, and display the results on the console.\n",
    "- All email addresses should be converted to **lowercase**.\n",
    "- All first names should be converted to **title case**.\n",
    "- If you add names to the list of email addresses, the program should create more emails.\n",
    "- If you modify the template, the program should change the content of the email that’s created. \n",
    "\n"
   ]
  },
  {
   "cell_type": "code",
   "execution_count": 9,
   "metadata": {},
   "outputs": [
    {
     "name": "stdout",
     "output_type": "stream",
     "text": [
      "Email Creator\n",
      "===============================================================\n",
      "To:      jbutt@gmail.com\n",
      "From:    noreply@deals.com\n",
      "Subject: Deals!\n",
      "\n",
      "Hi James,\n",
      "\n",
      "We've got some great deals for you. Check our website!\n",
      "===============================================================\n",
      "To:      josephine_darakjy@darakjy.org\n",
      "From:    noreply@deals.com\n",
      "Subject: Deals!\n",
      "\n",
      "Hi Josephine,\n",
      "\n",
      "We've got some great deals for you. Check our website!\n",
      "===============================================================\n",
      "To:      art@venere.org\n",
      "From:    noreply@deals.com\n",
      "Subject: Deals!\n",
      "\n",
      "Hi Art,\n",
      "\n",
      "We've got some great deals for you. Check our website!\n",
      "===============================================================\n"
     ]
    }
   ],
   "source": [
    "import csv\n",
    "\n",
    "def load_contacts(filename):\n",
    "    contacts = []\n",
    "    with open(filename, newline='') as f:\n",
    "        reader = csv.reader(f)\n",
    "        for row in reader:\n",
    "            first_name = row[0].title()\n",
    "            last_name = row[1].title()\n",
    "            email = row[2].lower()\n",
    "            contacts.append((first_name, last_name, email))\n",
    "    return contacts\n",
    "\n",
    "def load_template(filename):\n",
    "    with open(filename) as f:\n",
    "        return f.read()\n",
    "\n",
    "def create_emails(template, contacts):\n",
    "    sep = \"=\" * 63\n",
    "    print(\"Email Creator\")\n",
    "    print(sep)\n",
    "    for first_name, last_name, email in contacts:\n",
    "        body = template.replace(\"{first_name}\", first_name).replace(\"{email}\", email)\n",
    "        print(body)\n",
    "        print(sep)\n",
    "\n",
    "def main():\n",
    "    contacts = load_contacts(\"email.csv\")\n",
    "    template = load_template(\"email_template.txt\")\n",
    "    create_emails(template, contacts)\n",
    "\n",
    "if __name__ == \"__main__\":\n",
    "    main()"
   ]
  },
  {
   "cell_type": "markdown",
   "metadata": {},
   "source": [
    "## 10.2 Pig Latin Translator\n",
    "\n",
    "Create a program that translates English to Pig Latin.\n",
    "\n",
    "### Console:\n",
    "```powershell\n",
    "Pig Latin Translator\n",
    "\n",
    "Enter text: Tis but a scratch. \n",
    "English:\ttis but a scratch\n",
    "Pig Latin:\tistay utbay away atchscray \n",
    "\n",
    "Continue? (y/n): y\n",
    "\n",
    "Enter text: We are the knights who say nee!\n",
    "English:\twe are the knights who say nee\n",
    "Pig Latin:\teway areway ethay ightsknay owhay aysay eenay \n",
    "\n",
    "Continue? (y/n): n\n",
    "\n",
    "Bye!\n",
    "```\n",
    "\n",
    "### Specifications:\n",
    "- Convert the English to lowercase before translating.\n",
    "- Remove the following punctuation characters before translating `! , ; : - . ?`\n",
    "- Assume that words are separated from each other by a single space.\n",
    "- If the word starts with a vowel, just add *way* to the end of the word.\n",
    "- If the word starts with a consonant, move all of the consonants that appear before the first vowel to the end of the word, then add *ay* to the end of the word.\n",
    "\n",
    "### Note:\n",
    "- There are no official rules for Pig Latin. Most people agree on how words that begin with consonants are translated, but there are many different ways to handle words that begin with vowels.\n"
   ]
  },
  {
   "cell_type": "code",
   "execution_count": 3,
   "metadata": {},
   "outputs": [
    {
     "name": "stdout",
     "output_type": "stream",
     "text": [
      "Pig Latin Translator\n"
     ]
    },
    {
     "name": "stdin",
     "output_type": "stream",
     "text": [
      "\n",
      "Enter text:  Tis but a scratch\n"
     ]
    },
    {
     "name": "stdout",
     "output_type": "stream",
     "text": [
      "English:\ttis but a scratch\n",
      "Pig Latin:\tistay utbay away atchscray\n"
     ]
    },
    {
     "name": "stdin",
     "output_type": "stream",
     "text": [
      "\n",
      "Continue? (y/n):  y\n",
      "\n",
      "Enter text:  We are the knights who say nee!\n"
     ]
    },
    {
     "name": "stdout",
     "output_type": "stream",
     "text": [
      "English:\twe are the knights who say nee\n",
      "Pig Latin:\teway areway ethay ightsknay owhay aysay eenay\n"
     ]
    },
    {
     "name": "stdin",
     "output_type": "stream",
     "text": [
      "\n",
      "Continue? (y/n):  n\n"
     ]
    },
    {
     "name": "stdout",
     "output_type": "stream",
     "text": [
      "\n",
      "Bye!\n"
     ]
    }
   ],
   "source": [
    "def to_pig_latin(word):\n",
    "    vowels = \"aeiou\"\n",
    "    if word[0] in vowels:\n",
    "        return word + \"way\"\n",
    "    else:\n",
    "        i = 0\n",
    "        while i < len(word):\n",
    "            if word[i] in vowels:\n",
    "                return word[i:] + word[:i] + \"ay\"\n",
    "            i += 1\n",
    "        return word + \"ay\"\n",
    "\n",
    "def clean_text(text):\n",
    "    punctuation = \"!.,;:-?\"\n",
    "    cleaned = \"\"\n",
    "    for char in text:\n",
    "        if char not in punctuation:\n",
    "            cleaned += char\n",
    "    return cleaned.lower()\n",
    "\n",
    "def translate_sentence(sentence):\n",
    "    cleaned = clean_text(sentence)\n",
    "    words = cleaned.split()\n",
    "    translated_words = []\n",
    "    for word in words:\n",
    "        translated_words.append(to_pig_latin(word))\n",
    "    pig_latin = ' '.join(translated_words)\n",
    "    return pig_latin, cleaned\n",
    "\n",
    "def main():\n",
    "    print(\"Pig Latin Translator\")\n",
    "    while True:\n",
    "        text = input(\"\\nEnter text: \")\n",
    "        pig_latin, english = translate_sentence(text)\n",
    "        print(\"English:\\t\" + english)\n",
    "        print(\"Pig Latin:\\t\" + pig_latin)\n",
    "\n",
    "        cont = input(\"\\nContinue? (y/n): \").strip().lower()\n",
    "        if cont != \"y\":\n",
    "            print(\"\\nBye!\")\n",
    "            break\n",
    "\n",
    "if __name__ == \"__main__\":\n",
    "    main()"
   ]
  }
 ],
 "metadata": {
  "kernelspec": {
   "display_name": "Python [conda env:base] *",
   "language": "python",
   "name": "conda-base-py"
  },
  "language_info": {
   "codemirror_mode": {
    "name": "ipython",
    "version": 3
   },
   "file_extension": ".py",
   "mimetype": "text/x-python",
   "name": "python",
   "nbconvert_exporter": "python",
   "pygments_lexer": "ipython3",
   "version": "3.12.7"
  }
 },
 "nbformat": 4,
 "nbformat_minor": 4
}
