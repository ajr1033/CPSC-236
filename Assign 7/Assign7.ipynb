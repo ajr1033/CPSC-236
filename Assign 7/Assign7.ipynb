{
 "cells": [
  {
   "cell_type": "markdown",
   "metadata": {},
   "source": [
    "# Exceptions\n",
    "\n",
    "To submit this assignment in D2l, post the link to your notebook file on your GitHub account."
   ]
  },
  {
   "cell_type": "markdown",
   "metadata": {},
   "source": [
    "## 8.1 Tip Calculator\n",
    "Add exception handling to a Tip Calculator program.\n",
    "\n",
    "### Console:\n",
    "```powershell\n",
    "Tip Calculator\n",
    "\n",
    "INPUT\n",
    "Cost of meal: ten\n",
    "Must be valid decimal number. Please try again. \n",
    "Cost of meal: -10\n",
    "Must be greater than 0. Please try again. \n",
    "Cost of meal: 52.31\n",
    "Tip percent:\t17.5\n",
    "Must be valid integer. Please try again. \n",
    "Tip percent:\t20\n",
    "\n",
    "OUTPUT\n",
    "Cost of meal:   52.31 \n",
    "Tip percent:    20%\n",
    "Tip amount:     10.46\n",
    "Total amount:   62.77\n",
    "```\n",
    "\n",
    "### Specifications:\n",
    "- The program should accept **decimal** entries like 52.31 and 15.5 for the cost of the meal.\n",
    "- The program should accept **integer** entries like 15, 20, 25 for the tip percent.\n",
    "- The program should validate both user entries. That way, the user can’t crash the program by entering invalid data.\n",
    "- The program should only accept numbers that are **greater than 0**.\n",
    "- The program should round results to a maximum of two decimal places.\n"
   ]
  },
  {
   "cell_type": "code",
   "execution_count": 11,
   "metadata": {},
   "outputs": [
    {
     "name": "stdout",
     "output_type": "stream",
     "text": [
      "Tip Calculator\n",
      "\n",
      "INPUT\n"
     ]
    },
    {
     "name": "stdin",
     "output_type": "stream",
     "text": [
      "Cost of meal: ten\n"
     ]
    },
    {
     "name": "stdout",
     "output_type": "stream",
     "text": [
      "Must be valid decimal number. Please try again.\n"
     ]
    },
    {
     "name": "stdin",
     "output_type": "stream",
     "text": [
      "Cost of meal: -10\n"
     ]
    },
    {
     "name": "stdout",
     "output_type": "stream",
     "text": [
      "Must be greater than 0. Please try again.\n"
     ]
    },
    {
     "name": "stdin",
     "output_type": "stream",
     "text": [
      "Cost of meal: 52.31\n",
      "Tip percent: 17.5\n"
     ]
    },
    {
     "name": "stdout",
     "output_type": "stream",
     "text": [
      "Must be valid integer. Please try again.\n"
     ]
    },
    {
     "name": "stdin",
     "output_type": "stream",
     "text": [
      "Tip percent: 20\n"
     ]
    },
    {
     "name": "stdout",
     "output_type": "stream",
     "text": [
      "\n",
      "OUTPUT\n",
      "Cost of meal: 52.31\n",
      "Tip percent: 20%\n",
      "Tip amount: 10.46\n",
      "Total amount: 62.77\n"
     ]
    }
   ],
   "source": [
    "def get_cost_of_meal():\n",
    "    while True:\n",
    "        try:\n",
    "            cost = float(input(\"Cost of meal:\"))\n",
    "            if cost <= 0:\n",
    "                print(\"Must be greater than 0. Please try again.\")\n",
    "            else:\n",
    "                return cost\n",
    "        except ValueError:\n",
    "            print(\"Must be valid decimal number. Please try again.\")\n",
    "\n",
    "def get_tip_percent():\n",
    "    while True:\n",
    "        try:\n",
    "            tip = int(input(\"Tip percent:\"))\n",
    "            if tip <= 0:\n",
    "                print(\"Must be greater than 0. Please try again.\")\n",
    "            else:\n",
    "                return tip\n",
    "        except ValueError:\n",
    "            print(\"Must be valid integer. Please try again.\")\n",
    "\n",
    "def output(cost, tip):\n",
    "    tip_amount = round(cost * (tip / 100), 2)\n",
    "    total_amount = round(cost + tip_amount, 2)\n",
    "\n",
    "    print(\"\\nOUTPUT\")\n",
    "    print(\"Cost of meal:\", round(cost, 2))\n",
    "    print(\"Tip percent:\", str(tip) + \"%\")\n",
    "    print(\"Tip amount:\", round(tip_amount, 2))\n",
    "    print(\"Total amount:\", round(total_amount, 2))\n",
    "\n",
    "def main():\n",
    "    print(\"Tip Calculator\\n\")\n",
    "    print(\"INPUT\")\n",
    "    cost = get_cost_of_meal()\n",
    "    tip = get_tip_percent()\n",
    "    output(cost, tip)\n",
    "\n",
    "if __name__ == \"__main__\":\n",
    "    main()"
   ]
  },
  {
   "cell_type": "markdown",
   "metadata": {},
   "source": [
    "## 8.2 Wizard Inventory\n",
    "\n",
    "Add exception handling to a program that keeps track of the inventory of items that a wizard can carry. If you still have Wizard Inventory from Handson_5, you can add the exception handling to that program. Otherwise, you can start this program from scratch.\n",
    "\n",
    "### Console if the program can't find the **inventory** file:\n",
    "```powershell\n",
    "The Wizard Inventory program\n",
    "\n",
    "COMMAND MENU\n",
    "walk - Walk down the path \n",
    "show - Show all items \n",
    "drop - Drop an item\n",
    "exit - Exit program\n",
    "\n",
    "Could not find inventory file!\n",
    "Wizard is starting with no inventory.\n",
    "\n",
    "Command: walk\n",
    "While walking down a path, you see a crossbow.\n",
    "Do you want to grab it? (y/n): y\n",
    "You picked up a crossbow.\n",
    "\n",
    "Command: show\n",
    "1. a crossbow\n",
    "\n",
    "Command: drop Number: x\n",
    "Invalid item number.\n",
    "```\n",
    "\n",
    "### The error message if the program can’t find the **items** file:\n",
    "```powershell\n",
    "Could not find items file.\t\n",
    "Exiting program. Bye!\t\n",
    "```\n",
    "\n",
    "### Specifications:\n",
    "- This program should read the text file named `wizard_all_items.txt` that contains all the items a wizard can carry.\n",
    "- When the user selects the walk command, the program should randomly pick one of the items that were read from the text file and give the user the option to grab it.\n",
    "- The current items that the wizard is carrying should be saved in an inventory file. Make sure to update this file every time the user grabs or drops an item.\n",
    "- The wizard can only carry four items at a time. For the drop command, display an error message if the user enters an invalid integer or an integer that doesn’t correspond with an item.\n",
    "- Handle all exceptions that might occur so that the user can’t cause the program to crash. If the all items file is missing, display an appropriate error message and exit the program.\n",
    "- If the inventory file is missing, display an appropriate error message and continue with an empty inventory for the user. That way, the program will write a new inventory file when the user adds items to the inventory."
   ]
  },
  {
   "cell_type": "code",
   "execution_count": 21,
   "metadata": {},
   "outputs": [
    {
     "name": "stdout",
     "output_type": "stream",
     "text": [
      "The Wizard Inventory Program\n",
      "\n",
      "Could not find items file.\n",
      "Exiting program. Bye!\n"
     ]
    },
    {
     "ename": "SystemExit",
     "evalue": "",
     "output_type": "error",
     "traceback": [
      "An exception has occurred, use %tb to see the full traceback.\n",
      "\u001b[1;31mSystemExit\u001b[0m\n"
     ]
    }
   ],
   "source": [
    "import random\n",
    "import sys\n",
    "\n",
    "ALL_ITEMS_FILE = \"awizard_all_items.txt\"\n",
    "INVENTORY_FILE = \"wizard_inventory.txt\"\n",
    "MAX_ITEMS = 4\n",
    "\n",
    "def load_items(filename):\n",
    "    try:\n",
    "        with open(filename, \"r\") as file:\n",
    "            lines = file.readlines()\n",
    "            items = []\n",
    "            for line in lines:\n",
    "                items.append(line.strip())\n",
    "            return items\n",
    "    except FileNotFoundError:\n",
    "        if filename == ALL_ITEMS_FILE:\n",
    "            print(\"Could not find items file.\")\n",
    "            print(\"Exiting program. Bye!\")\n",
    "            sys.exit()\n",
    "        elif filename == INVENTORY_FILE:\n",
    "            print(\"Could not find inventory file!\")\n",
    "            print(\"Wizard is starting with no inventory.\")\n",
    "            return []\n",
    "def save_items(filename, items):\n",
    "    try:    \n",
    "        with open(filename, \"w\") as file:\n",
    "            for item in items:\n",
    "                if item.strip():\n",
    "                    file.write(item + \"\\n\")\n",
    "    except Exception as e:\n",
    "        print(\"Error saving inventory:\", e)\n",
    "\n",
    "def walk(inventory, all_items):\n",
    "    item = random.choice(all_items)\n",
    "    print(\"While walking down a path, you see \" + item + \".\")\n",
    "    choice = input(\"Do you want to grab it? (y/n): \").strip().lower()\n",
    "    if choice == \"y\":\n",
    "        if len(inventory) >= MAX_ITEMS:\n",
    "            print(\"You can't carry any more items. Drop something first.\")\n",
    "            return\n",
    "        else:\n",
    "            inventory.append(item)\n",
    "            save_items(INVENTORY_FILE, inventory)\n",
    "            print(\"You picked up \" + item + \".\")\n",
    "\n",
    "def show(inventory):\n",
    "    if len(inventory)==0:\n",
    "        print(\"Your inventory is empty.\")\n",
    "    else:\n",
    "        for i in range(len(inventory)):\n",
    "            print(str(i+1) + \".\\t\" + inventory[i])\n",
    "\n",
    "def drop(inventory):\n",
    "    if not inventory:\n",
    "        print(\"Your inventory is already empty.\")\n",
    "        return\n",
    "    try:\n",
    "        index = input(\"Number: \").strip()\n",
    "        index = int(index) - 1\n",
    "        if index < 0 or index >= len(inventory):\n",
    "            print(\"Invalid number. Try again.\")\n",
    "            \n",
    "        else:\n",
    "            item = inventory.pop(index)\n",
    "            save_items(INVENTORY_FILE, inventory)\n",
    "            print(\"You dropped \" + item + \".\")\n",
    "    except ValueError:\n",
    "        print(\"Invalid input. Please enter a valid number.\")\n",
    "\n",
    "def main():\n",
    "    print(\"The Wizard Inventory Program\\n\")\n",
    "    inventory = load_items(INVENTORY_FILE)\n",
    "    all_items = load_items(ALL_ITEMS_FILE)\n",
    "    \n",
    "    while True:\n",
    "        print(\"\\nCOMMAND MENU\")\n",
    "        print(\"walk - Walk down the path\")\n",
    "        print(\"show - Show all items\")\n",
    "        print(\"drop - Drop an item\")\n",
    "        print(\"exit - Exit program\")\n",
    "        \n",
    "        command = input(\"\\nCommand: \").strip().lower()\n",
    "        if command == \"walk\":\n",
    "            walk(inventory, all_items)\n",
    "        elif command == \"show\":\n",
    "            show(inventory)\n",
    "        elif command == \"drop\":\n",
    "            drop(inventory)\n",
    "        elif command == \"exit\":\n",
    "            print(\"Bye!\")\n",
    "            break\n",
    "        else:\n",
    "            print(\"Invalid command. Try again.\")\n",
    "\n",
    "if __name__ == \"__main__\":\n",
    "    main()"
   ]
  }
 ],
 "metadata": {
  "kernelspec": {
   "display_name": "Python [conda env:base] *",
   "language": "python",
   "name": "conda-base-py"
  },
  "language_info": {
   "codemirror_mode": {
    "name": "ipython",
    "version": 3
   },
   "file_extension": ".py",
   "mimetype": "text/x-python",
   "name": "python",
   "nbconvert_exporter": "python",
   "pygments_lexer": "ipython3",
   "version": "3.12.7"
  },
  "panel-cell-order": [
   "0a6d559c",
   "90cb5fd0",
   "90fe085c"
  ]
 },
 "nbformat": 4,
 "nbformat_minor": 4
}
