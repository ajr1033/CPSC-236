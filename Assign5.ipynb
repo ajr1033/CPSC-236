{
 "cells": [
  {
   "cell_type": "markdown",
   "metadata": {},
   "source": [
    "# File Input\n",
    "\n",
    "To submit this assignment in D2l, post the link to your notebook file on your GitHub account."
   ]
  },
  {
   "cell_type": "markdown",
   "metadata": {},
   "source": [
    "## 7.1 Pig Dice Rules\n",
    "Create a program that reads a list of rules from a file and displays them.\n",
    "\n",
    "### Console:\n",
    "```powershell\n",
    "Pig Dice Rules:\n",
    "*\tSee how many turns it takes you to get to 20.\n",
    "*\tTurn ends when player rolls a 1 or chooses to hold.\n",
    "*\tIf you roll a 1, you lose all points earned during the turn.\n",
    "*\tIf you hold, you save all points earned during the turn.\n",
    "```\n",
    "\n",
    "### Specifications:\n",
    "- Use the attached text file named `pig_dice_rules.txt` in the corresponding Directory.\n",
    "- Your program should read the text file and display it on the console.\n"
   ]
  },
  {
   "cell_type": "code",
   "execution_count": 13,
   "metadata": {},
   "outputs": [
    {
     "name": "stdout",
     "output_type": "stream",
     "text": [
      "Pig Dice Rules:\n",
      "*\t See how many turns it takes you to get to 20.\n",
      "*\t Turn ends when player rolls a 1 or chooses to hold.\n",
      "*\t If you roll a 1, you lose all points earned during the turn.\n",
      "*\t If you hold, you save all points earned during the turn.\n"
     ]
    }
   ],
   "source": [
    "with open(\"pig_dice_rules.txt\", 'r') as file:\n",
    "    rules = file.read()\n",
    "    formatted_rules = rules.replace(\"*\", \"*\\t\")\n",
    "    print(formatted_rules)"
   ]
  },
  {
   "cell_type": "markdown",
   "metadata": {},
   "source": [
    "## 7.2 Wizard Inventory\n",
    "Create a program that keeps track of the items that a wizard can carry.\n",
    "\n",
    "### Console:\n",
    "```powershell\n",
    "The Wizard Inventroy Program\n",
    "\n",
    "COMMAND MENU\n",
    "walk - Walk down the path \n",
    "show - Show all items \n",
    "drop - Drop an item\n",
    "exit - Exit program\n",
    "\n",
    "Command: walk\n",
    "While walking down a path, you see a scroll of uncursing. \n",
    "Do you want to grab it? (y/n): y\n",
    "You picked up a scroll of uncursing.\n",
    "\n",
    "Command: walk\n",
    "While walking down a path, you see an unknown potion. \n",
    "Do you want to grab it? (y/n): y\n",
    "You can't carry any more items. Drop something first.\n",
    "\n",
    "Command: show\n",
    "1.\ta wooden staff\n",
    "2.\ta scroll of invisibility\n",
    "3.\ta crossbow\n",
    "4.\ta scroll of uncursing\n",
    "\n",
    "Command: drop Number: 3\n",
    "You dropped a crossbow.\n",
    "\n",
    "Command: exit \n",
    "Bye!\n",
    "```\n",
    "\n",
    "### Specifications:\n",
    "- Use the attached text file named `wizard_all_items.txt` that contains a list of all the items that a wizard can carry. (in the corresponding directory)\n",
    "- When the user selects the walk command, the program should read the items from the file, randomly pick one, and give the user the option to grab it.\n",
    "- Your program should create another file that stores the items that the wizard is carrying (`wizard_inventory.txt`). Make sure to update this file every time the user grabs or drops an item.\n",
    "- The wizard can only carry **four** items at a time.\n",
    "- For the drop command, display an error message if the user enters an invalid number for the item.\n",
    "\n"
   ]
  },
  {
   "cell_type": "code",
   "execution_count": 19,
   "metadata": {},
   "outputs": [
    {
     "name": "stdout",
     "output_type": "stream",
     "text": [
      "The Wizard Inventory Program\n",
      "\n",
      "\n",
      "COMMAND MENU\n",
      "walk - Walk down the path\n",
      "show - Show all items\n",
      "drop - Drop an item\n",
      "exit - Exit program\n"
     ]
    },
    {
     "name": "stdin",
     "output_type": "stream",
     "text": [
      "\n",
      "Command:  walk\n"
     ]
    },
    {
     "name": "stdout",
     "output_type": "stream",
     "text": [
      "While walking down a path, you see a wooden staff.\n"
     ]
    },
    {
     "name": "stdin",
     "output_type": "stream",
     "text": [
      "Do you want to grab it? (y/n):  y\n"
     ]
    },
    {
     "name": "stdout",
     "output_type": "stream",
     "text": [
      "You picked up a wooden staff.\n",
      "\n",
      "COMMAND MENU\n",
      "walk - Walk down the path\n",
      "show - Show all items\n",
      "drop - Drop an item\n",
      "exit - Exit program\n"
     ]
    },
    {
     "name": "stdin",
     "output_type": "stream",
     "text": [
      "\n",
      "Command:  show\n"
     ]
    },
    {
     "name": "stdout",
     "output_type": "stream",
     "text": [
      "1.\ta crossbow\n",
      "2.\ta scroll of invisibility\n",
      "3.\ta wizard's cloak\n",
      "4.\ta wooden staff\n",
      "\n",
      "COMMAND MENU\n",
      "walk - Walk down the path\n",
      "show - Show all items\n",
      "drop - Drop an item\n",
      "exit - Exit program\n"
     ]
    },
    {
     "name": "stdin",
     "output_type": "stream",
     "text": [
      "\n",
      "Command:  drop\n",
      "Number:  3\n"
     ]
    },
    {
     "name": "stdout",
     "output_type": "stream",
     "text": [
      "You dropped a wizard's cloak.\n",
      "\n",
      "COMMAND MENU\n",
      "walk - Walk down the path\n",
      "show - Show all items\n",
      "drop - Drop an item\n",
      "exit - Exit program\n"
     ]
    },
    {
     "name": "stdin",
     "output_type": "stream",
     "text": [
      "\n",
      "Command:  walk\n"
     ]
    },
    {
     "name": "stdout",
     "output_type": "stream",
     "text": [
      "While walking down a path, you see an unknown potion.\n"
     ]
    },
    {
     "name": "stdin",
     "output_type": "stream",
     "text": [
      "Do you want to grab it? (y/n):  y\n"
     ]
    },
    {
     "name": "stdout",
     "output_type": "stream",
     "text": [
      "You picked up an unknown potion.\n",
      "\n",
      "COMMAND MENU\n",
      "walk - Walk down the path\n",
      "show - Show all items\n",
      "drop - Drop an item\n",
      "exit - Exit program\n"
     ]
    },
    {
     "name": "stdin",
     "output_type": "stream",
     "text": [
      "\n",
      "Command:  exit\n"
     ]
    },
    {
     "name": "stdout",
     "output_type": "stream",
     "text": [
      "Bye!\n"
     ]
    }
   ],
   "source": [
    "import random\n",
    "\n",
    "ALL_ITEMS_FILE = \"wizard_all_items.txt\"\n",
    "INVENTORY_FILE = \"wizard_inventory.txt\"\n",
    "MAX_ITEMS = 4\n",
    "\n",
    "def load_items(filename):\n",
    "    with open(filename, \"r\") as file:\n",
    "        lines = file.readlines()\n",
    "        items = []\n",
    "        for line in lines:\n",
    "            items.append(line.strip())\n",
    "        return items\n",
    "\n",
    "def save_items(filename, items):\n",
    "    with open(filename, \"w\") as file:\n",
    "        for item in items:\n",
    "            if item.strip():\n",
    "                file.write(item + \"\\n\")\n",
    "\n",
    "def walk(inventory, all_items):\n",
    "    item = random.choice(all_items)\n",
    "    print(\"While walking down a path, you see \" + item + \".\")\n",
    "    choice = input(\"Do you want to grab it? (y/n): \").strip().lower()\n",
    "    if choice == \"y\":\n",
    "        if len(inventory) >= MAX_ITEMS:\n",
    "            print(\"You can't carry any more items. Drop something first.\")\n",
    "            return\n",
    "        else:\n",
    "            inventory.append(item)\n",
    "            save_items(INVENTORY_FILE, inventory)\n",
    "            print(\"You picked up \" + item + \".\")\n",
    "\n",
    "def show(inventory):\n",
    "    if len(inventory)==0:\n",
    "        print(\"Your inventory is empty.\")\n",
    "    else:\n",
    "        for i in range(len(inventory)):\n",
    "            print(str(i+1) + \".\\t\" + inventory[i])\n",
    "\n",
    "def drop(inventory):\n",
    "    index = input(\"Number: \").strip()\n",
    "    index = int(index) - 1\n",
    "    if index < 0 or index >= len(inventory):\n",
    "        print(\"Invalid number. Try again.\")\n",
    "        return\n",
    "    item = inventory.pop(index)\n",
    "    save_items(INVENTORY_FILE, inventory)\n",
    "    print(\"You dropped \" + item + \".\")\n",
    "\n",
    "def main():\n",
    "    print(\"The Wizard Inventory Program\\n\")\n",
    "    inventory = load_items(INVENTORY_FILE)\n",
    "    all_items = load_items(ALL_ITEMS_FILE)\n",
    "    \n",
    "    while True:\n",
    "        print(\"\\nCOMMAND MENU\")\n",
    "        print(\"walk - Walk down the path\")\n",
    "        print(\"show - Show all items\")\n",
    "        print(\"drop - Drop an item\")\n",
    "        print(\"exit - Exit program\")\n",
    "        \n",
    "        command = input(\"\\nCommand: \").strip().lower()\n",
    "        if command == \"walk\":\n",
    "            walk(inventory, all_items)\n",
    "        elif command == \"show\":\n",
    "            show(inventory)\n",
    "        elif command == \"drop\":\n",
    "            drop(inventory)\n",
    "        elif command == \"exit\":\n",
    "            print(\"Bye!\")\n",
    "            break\n",
    "        else:\n",
    "            print(\"Invalid command. Try again.\")\n",
    "\n",
    "if __name__ == \"__main__\":\n",
    "    main()"
   ]
  },
  {
   "cell_type": "code",
   "execution_count": null,
   "metadata": {},
   "outputs": [],
   "source": []
  },
  {
   "cell_type": "markdown",
   "metadata": {},
   "source": [
    "## 7.3 Monthly Sales\n",
    "Create a program that reads the sales for 12 months from a file and calculates the total yearly sales as well as the average monthly sales. In addition, this program should let the user edit the sales for any month.\n",
    "\n",
    "### Console:\n",
    "```powershell\n",
    "Monthly Sales program\n",
    "\n",
    "COMMAND MENU\n",
    "monthly - View monthly sales \n",
    "yearly\t- View yearly sumary \n",
    "edit\t- Edit sales for a month \n",
    "exit\t- Exit program\n",
    "\n",
    "Command: monthly \n",
    "Jan - 14317\n",
    "Feb - 3903\n",
    "Mar - 1073\n",
    "Apr - 3463\n",
    "May - 2429\n",
    "Jun - 4324\n",
    "Jul - 9762\n",
    "Aug - 15578\n",
    "Sep - 2437\n",
    "Oct - 6735\n",
    "Nov - 88\n",
    "Dec - 2497\n",
    "\n",
    "Command: yearly\n",
    "Yearly total:\t66606\n",
    "Monthly average:\t5550.5\n",
    "\n",
    "Command: edit\n",
    "Three-letter Month: Nov Sales Amount: 8854\n",
    "Sales amount for Nov was modified.\n",
    "\n",
    "Command: exit Bye!\n",
    "```\n",
    "\n",
    "### Specifications:\n",
    "- Use the attached text file named CSV file named `monthly_sales.csv` that contains the month and sales data shown above.\n",
    "- For the edit command, display an error message if the user doesn’t enter a valid three-letter abbreviation for the month.\n",
    "- When the user edits the sales amount for a month, the data should be saved to the CSV file immediately. That way, no data is lost, even if the program crashes later.\n",
    "- Round the results of the monthly average to a maximum of 2 decimal digits."
   ]
  },
  {
   "cell_type": "code",
   "execution_count": 23,
   "metadata": {},
   "outputs": [
    {
     "name": "stdout",
     "output_type": "stream",
     "text": [
      "Monthly Sales program\n",
      "\n",
      "COMMAND MENU\n",
      "monthly - View monthly sales\n",
      "yearly  - View yearly summary\n",
      "edit    - Edit sales for a month\n",
      "exit    - Exit program\n"
     ]
    },
    {
     "name": "stdin",
     "output_type": "stream",
     "text": [
      "\n",
      "Command:  monthly\n"
     ]
    },
    {
     "name": "stdout",
     "output_type": "stream",
     "text": [
      "Jan - 14317\n",
      "Feb - 3903\n",
      "Mar - 1073\n",
      "Apr - 3463\n",
      "May - 2429\n",
      "Jun - 4324\n",
      "Jul - 9762\n",
      "Aug - 15578\n",
      "Sep - 2437\n",
      "Oct - 6735\n",
      "Nov - 88\n",
      "Dec - 2497\n",
      "\n",
      "COMMAND MENU\n",
      "monthly - View monthly sales\n",
      "yearly  - View yearly summary\n",
      "edit    - Edit sales for a month\n",
      "exit    - Exit program\n"
     ]
    },
    {
     "name": "stdin",
     "output_type": "stream",
     "text": [
      "\n",
      "Command:  yearly\n"
     ]
    },
    {
     "name": "stdout",
     "output_type": "stream",
     "text": [
      "Yearly total:\t66606\n",
      "Monthly average:\t5550.5\n",
      "\n",
      "COMMAND MENU\n",
      "monthly - View monthly sales\n",
      "yearly  - View yearly summary\n",
      "edit    - Edit sales for a month\n",
      "exit    - Exit program\n"
     ]
    },
    {
     "name": "stdin",
     "output_type": "stream",
     "text": [
      "\n",
      "Command:  edit\n",
      "Three-letter Month:  Nov\n",
      "Sales Amount:  8854\n"
     ]
    },
    {
     "name": "stdout",
     "output_type": "stream",
     "text": [
      "Sales amount for Nov was modified.\n",
      "\n",
      "COMMAND MENU\n",
      "monthly - View monthly sales\n",
      "yearly  - View yearly summary\n",
      "edit    - Edit sales for a month\n",
      "exit    - Exit program\n"
     ]
    },
    {
     "name": "stdin",
     "output_type": "stream",
     "text": [
      "\n",
      "Command:  exit\n"
     ]
    },
    {
     "name": "stdout",
     "output_type": "stream",
     "text": [
      "Bye!\n"
     ]
    }
   ],
   "source": [
    "import csv\n",
    "\n",
    "FILE_NAME = \"monthly_sales.csv\"\n",
    "\n",
    "def load_sales():\n",
    "    sales = []\n",
    "    months = []\n",
    "    with open(FILE_NAME, newline='') as file:\n",
    "        reader = csv.reader(file)\n",
    "        for row in reader:\n",
    "            months.append(row[0])\n",
    "            sales.append(int(row[1]))\n",
    "    return sales, months\n",
    "\n",
    "def save_sales(sales, months):\n",
    "    with open(FILE_NAME, 'w', newline='') as file:\n",
    "        writer = csv.writer(file)\n",
    "        for i in range(len(months)):\n",
    "            writer.writerow([months[i], sales[i]])\n",
    "\n",
    "def view_monthly_sales(sales, months):\n",
    "    for i in range(len(months)):\n",
    "        print(months[i] + \" - \" + str(sales[i]))\n",
    "\n",
    "def view_yearly_summary(sales):\n",
    "    total_sales = sum(sales)\n",
    "    if len(sales) > 0:\n",
    "        avg_sales = round(total_sales / len(sales), 2)\n",
    "    else:\n",
    "        avg_sales = 0\n",
    "    print(\"Yearly total:\\t\" + str(total_sales))\n",
    "    print(\"Monthly average:\\t\" + str(avg_sales))\n",
    "\n",
    "def edit_sales(sales, months):\n",
    "    month = input(\"Three-letter Month: \").strip()\n",
    "    if month not in months:\n",
    "        print(\"Invalid month abbreviation. Try again.\")\n",
    "        return\n",
    "    \n",
    "    amount = input(\"Sales Amount: \").strip()\n",
    "    index = months.index(month)\n",
    "    sales[index] = int(amount)\n",
    "    save_sales(sales, months)\n",
    "    print(\"Sales amount for \" + month + \" was modified.\")\n",
    "\n",
    "def main():\n",
    "    print(\"Monthly Sales program\")\n",
    "    sales, months = load_sales()\n",
    "    \n",
    "    while True:\n",
    "        print(\"\\nCOMMAND MENU\")\n",
    "        print(\"monthly - View monthly sales\")\n",
    "        print(\"yearly  - View yearly summary\")\n",
    "        print(\"edit    - Edit sales for a month\")\n",
    "        print(\"exit    - Exit program\")\n",
    "        \n",
    "        command = input(\"\\nCommand: \").strip().lower()\n",
    "        if command == \"monthly\":\n",
    "            view_monthly_sales(sales, months)\n",
    "        elif command == \"yearly\":\n",
    "            view_yearly_summary(sales)\n",
    "        elif command == \"edit\":\n",
    "            edit_sales(sales, months)\n",
    "        elif command == \"exit\":\n",
    "            print(\"Bye!\")\n",
    "            break\n",
    "        else:\n",
    "            print(\"Invalid command. Try again.\")\n",
    "\n",
    "if __name__ == \"__main__\":\n",
    "    main()\n"
   ]
  },
  {
   "cell_type": "code",
   "execution_count": null,
   "metadata": {},
   "outputs": [],
   "source": []
  }
 ],
 "metadata": {
  "kernelspec": {
   "display_name": "Python [conda env:base] *",
   "language": "python",
   "name": "conda-base-py"
  },
  "language_info": {
   "codemirror_mode": {
    "name": "ipython",
    "version": 3
   },
   "file_extension": ".py",
   "mimetype": "text/x-python",
   "name": "python",
   "nbconvert_exporter": "python",
   "pygments_lexer": "ipython3",
   "version": "3.12.7"
  }
 },
 "nbformat": 4,
 "nbformat_minor": 4
}
