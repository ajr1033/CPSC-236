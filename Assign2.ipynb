{
 "cells": [
  {
   "cell_type": "markdown",
   "metadata": {},
   "source": [
    "# Selections and Loops"
   ]
  },
  {
   "cell_type": "markdown",
   "metadata": {},
   "source": [
    "## 3.1 Letter Grade Converter\n",
    "Create a program that converts number grades to letter grades.\n",
    "\n",
    "### Console:\n",
    "```powershell\n",
    "Letter Grade Converter\n",
    "\n",
    "Enter numerical grade: 90 \n",
    "Letter grade: A\n",
    "\n",
    "Continue? (y/n): y\n",
    "\n",
    "Enter numerical grade: 88 \n",
    "Letter grade: A\n",
    "\n",
    "Continue? (y/n): y\n",
    "\n",
    "Enter numerical grade: 80 \n",
    "Letter grade: B\n",
    "\n",
    "Continue? (y/n): y\n",
    "\n",
    "Enter numerical grade: 67 \n",
    "Letter grade: C\n",
    "\n",
    "Continue? (y/n): y\n",
    "\n",
    "Enter numerical grade: 59 \n",
    "Letter grade: F\n",
    "\n",
    "Continue? (y/n): n\n",
    "\n",
    "Bye!\n",
    "```\n",
    "\n",
    "### Specifications:\n",
    "- Assume that the user will enter valid integers for the grades.\n",
    "- The program should continue only if the user enters “y” or “Y” to continue.\n",
    "- The grading criteria is as follows:\n",
    "\n",
    "| Letter |\tRange |\n",
    "|---|-------|\n",
    "| A |\t88-100 |\n",
    "| B |\t80-87 |\n",
    "| C |\t67-79 |\n",
    "| D |\t60-66 |\n",
    "| F |\t<60 |"
   ]
  },
  {
   "cell_type": "code",
   "execution_count": null,
   "metadata": {},
   "outputs": [],
   "source": [
    "### CODE HERE ###\n",
    "print(\"Letter Grade Converter\\n\")\n",
    "\n",
    "choice = \"y\"\n",
    "\n",
    "while (choice.lower()==\"y\"):\n",
    "    grade = int(input(\"Enter numerical grade:\"))\n",
    "    if (grade >= 88 and grade<=100):\n",
    "        print(\"Letter Grade: A\")\n",
    "    elif (grade <=87 and grade >=80):\n",
    "        print(\"Letter Grade: B\")\n",
    "    elif (grade <=79 and grade >=67):\n",
    "        print(\"Letter Grade: C\")\n",
    "    elif (grade <=66 and grade >=60):\n",
    "        print(\"Letter Grade: D\")\n",
    "    elif (grade < 60):\n",
    "        print(\"Letter Grade: F\")\n",
    "    else:\n",
    "        print(\"Enter a Valid Input\")\n",
    "    choice = input(\"Continue? (y/n):\")\n"
   ]
  },
  {
   "cell_type": "markdown",
   "metadata": {},
   "source": [
    "## 3.2 - Tip Calculator\n",
    "Create a program that calculates three options for an appropriate tip to leave after a meal at a restaurant.\n",
    "\n",
    "### Console\n",
    "```powershell\n",
    "Tip Calculator\n",
    "\n",
    "Cost of meal: 52.31 \n",
    "\n",
    "15%\n",
    "Tip amount:\t7.85\n",
    "Total amount: 60.16\n",
    "\n",
    "20%\n",
    "Tip amount:\t10.46\n",
    "Total amount: 62.77\n",
    "\n",
    "25%\n",
    "Tip amount:\t13.08\n",
    "Total amount: 65.39\n",
    "```\n",
    "\n",
    "### Specifications:\n",
    "- The program should calculate and display the cost of tipping at 15%, 20%, or 25%.\n",
    "- Assume the user will enter valid data.\n",
    "- The program should round results to a maximum of two decimal places.\n",
    "\n"
   ]
  },
  {
   "cell_type": "code",
   "execution_count": null,
   "metadata": {},
   "outputs": [],
   "source": [
    "### CODE HERE ###\n",
    "print(\"Tip Calculator\")\n",
    "\n",
    "meal = float(input(\"Cost of meal:\"))\n",
    "\n",
    "percent = 15\n",
    "for percent in range (15,30, 5):\n",
    "    print(\"\\n\"+str(percent), end=\"%\")\n",
    "    tip = round((percent/100)*meal, 2)\n",
    "    total = round(tip+meal, 2)\n",
    "    print(\"\\nTip Amount:\", tip)\n",
    "    print(\"Total Amount:\", total)\n",
    "    percent += 5\n",
    "\n"
   ]
  },
  {
   "cell_type": "markdown",
   "metadata": {},
   "source": [
    "## 3.3 - Change Calculator\n",
    "Create a program that calculates the coins needed to make change for the specified number of cents.\n",
    "\n",
    "### Console\n",
    "```powershell\n",
    "Change Calculator\n",
    "\n",
    "Enter number of cents (0-99): 99\n",
    "\n",
    "Quarters: 3\n",
    "Dimes:\t2\n",
    "Nickels: 0\n",
    "Pennies: 4\n",
    "\n",
    "Continue? (y/n): y\n",
    "\n",
    "Enter number of cents (0-99): 55\n",
    "\n",
    "Quarters: 2\n",
    "Dimes:\t0\n",
    "Nickels: 1\n",
    "Pennies: 0\n",
    "\n",
    "Continue? (y/n): n \n",
    "\n",
    "Bye!\n",
    "```\n",
    "\n",
    "### Specifications\n",
    "- The program should display the minimum number of quarters, dimes, nickels, and pennies that one needs to make up the specified number of cents.\n",
    "- Assume that the user will enter a valid integer for the number of cents.\n",
    "- The program should continue only if the user enters “y” or “Y” to continue.\n"
   ]
  },
  {
   "cell_type": "code",
   "execution_count": 3,
   "metadata": {},
   "outputs": [
    {
     "name": "stdout",
     "output_type": "stream",
     "text": [
      "Change Calcuator\n"
     ]
    },
    {
     "name": "stdin",
     "output_type": "stream",
     "text": [
      "Enter number of cents (0-99): 99\n"
     ]
    },
    {
     "name": "stdout",
     "output_type": "stream",
     "text": [
      "Quarters: 3\n",
      "Dimes: 2\n",
      "Nickel: 0\n",
      "Pennies: 4\n"
     ]
    },
    {
     "name": "stdin",
     "output_type": "stream",
     "text": [
      "Continue? (y/n): n\n"
     ]
    }
   ],
   "source": [
    "### CODE HERE ###\n",
    "print(\"Change Calcuator\")\n",
    "\n",
    "choice = \"y\"\n",
    "QUARTER = 25\n",
    "DIME = 10\n",
    "NICKEL = 5\n",
    "PENNY = 1\n",
    "while (choice.lower() == \"y\"):\n",
    "    cents= int(input(\"Enter number of cents (0-99):\"))\n",
    "    \n",
    "    quarters = cents//QUARTER\n",
    "    cent2 = cents - (quarters*QUARTER)\n",
    "    dime = cent2 // DIME\n",
    "    cent3 = cent2 - (dime*DIME)\n",
    "    nickel = cent3 // NICKEL\n",
    "    cent4 = cent3 - (nickel*NICKEL)\n",
    "    penny = cent4 \n",
    "    \n",
    "    print(\"Quarters:\", quarters)\n",
    "    print(\"Dimes:\", dime)\n",
    "    print(\"Nickel:\", nickel)\n",
    "    print(\"Pennies:\", penny)\n",
    "    choice = input(\"Continue? (y/n):\")\n",
    "    "
   ]
  },
  {
   "cell_type": "markdown",
   "metadata": {},
   "source": [
    "## 3.4 - Table of Powers\n",
    "Create a program that displays a table of squares and cubes for the specified range of numbers.\n",
    "\n",
    "### Console\n",
    "```powershell\n",
    "Table of Powers\n",
    "\n",
    "Start number: 90\n",
    "Stop number: 100\n",
    "\n",
    "Number\tSquared\tCubed\n",
    "======\t=======\t=====\n",
    "90      8100\t729000\n",
    "91      8281\t753571\n",
    "92      8464\t778688\n",
    "93      8649\t804357\n",
    "94      8836\t830584\n",
    "95      9025\t857375\n",
    "96      9216\t884736\n",
    "97      9409\t912673\n",
    "98      9604\t941192\n",
    "99      9801\t970299\n",
    "100     10000\t1000000\n",
    "```\n",
    "\n",
    "### Specifications\n",
    "- The formulas for calculating squares and cubes are:\n",
    "\n",
    "    `square = x ** 2`\n",
    "    \n",
    "    `cube = x ** 3`\n",
    "\n",
    "- Use tabs to align the columns.\n",
    "- Assume that the user will enter valid integers.\n",
    "- Make sure the user enters a start integer that’s less than the stop integer. If the user enters a start integer that’s greater than the stop integer, display an error message and give the user a chance to enter the integers again.\n"
   ]
  },
  {
   "cell_type": "code",
   "execution_count": 7,
   "metadata": {},
   "outputs": [
    {
     "name": "stdout",
     "output_type": "stream",
     "text": [
      "Table of Powers\n"
     ]
    },
    {
     "name": "stdin",
     "output_type": "stream",
     "text": [
      "Start number: 90\n",
      "Stop number: 100\n"
     ]
    },
    {
     "name": "stdout",
     "output_type": "stream",
     "text": [
      "Number\t Squared Cubed\n",
      "======\t ======= =====\n",
      "90 \t 8100 \t 729000\n",
      "91 \t 8281 \t 753571\n",
      "92 \t 8464 \t 778688\n",
      "93 \t 8649 \t 804357\n",
      "94 \t 8836 \t 830584\n",
      "95 \t 9025 \t 857375\n",
      "96 \t 9216 \t 884736\n",
      "97 \t 9409 \t 912673\n",
      "98 \t 9604 \t 941192\n",
      "99 \t 9801 \t 970299\n"
     ]
    }
   ],
   "source": [
    "### CODE HERE ###\n",
    "print(\"Table of Powers\")\n",
    "start = int(input(\"Start number:\"))\n",
    "end = int(input(\"Stop number:\"))\n",
    "i=0\n",
    "print(\"Number\\t\", \"Squared\", \"Cubed\")\n",
    "print(\"======\\t\", \"=======\", \"=====\")\n",
    "for i in range (start, end, 1):\n",
    "    print(i,\"\\t\",i**2,\"\\t\",i**3)\n",
    "    i+=1\n",
    "\n"
   ]
  },
  {
   "cell_type": "code",
   "execution_count": null,
   "metadata": {},
   "outputs": [],
   "source": []
  }
 ],
 "metadata": {
  "kernelspec": {
   "display_name": "Python 3 (ipykernel)",
   "language": "python",
   "name": "python3"
  },
  "language_info": {
   "codemirror_mode": {
    "name": "ipython",
    "version": 3
   },
   "file_extension": ".py",
   "mimetype": "text/x-python",
   "name": "python",
   "nbconvert_exporter": "python",
   "pygments_lexer": "ipython3",
   "version": "3.11.7"
  }
 },
 "nbformat": 4,
 "nbformat_minor": 4
}
